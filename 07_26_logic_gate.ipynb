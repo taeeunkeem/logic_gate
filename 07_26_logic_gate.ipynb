{
  "nbformat": 4,
  "nbformat_minor": 0,
  "metadata": {
    "colab": {
      "name": "07-26_logic gate",
      "provenance": [],
      "collapsed_sections": [],
      "include_colab_link": true
    },
    "kernelspec": {
      "name": "python3",
      "display_name": "Python 3"
    },
    "language_info": {
      "name": "python"
    }
  },
  "cells": [
    {
      "cell_type": "markdown",
      "metadata": {
        "id": "view-in-github",
        "colab_type": "text"
      },
      "source": [
        "<a href=\"https://colab.research.google.com/github/taeeunkeem/logic_gate/blob/main/07_26_logic_gate.ipynb\" target=\"_parent\"><img src=\"https://colab.research.google.com/assets/colab-badge.svg\" alt=\"Open In Colab\"/></a>"
      ]
    },
    {
      "cell_type": "code",
      "execution_count": null,
      "metadata": {
        "id": "u85i4redDkRT"
      },
      "outputs": [],
      "source": [
        "import numpy as np"
      ]
    },
    {
      "cell_type": "markdown",
      "source": [
        "***Weight,Bias***"
      ],
      "metadata": {
        "id": "BBxVmWZWUt3N"
      }
    },
    {
      "cell_type": "code",
      "source": [
        "w1 = np.array([-10,1])\n",
        "b1 = -1.1\n",
        "\n",
        "w2 = np.array([10,120])\n",
        "b2 = 11\n",
        "\n",
        "w3 = np.array([1,1])\n",
        "b3 = -1.8"
      ],
      "metadata": {
        "id": "-Wfja_ZALwdc"
      },
      "execution_count": null,
      "outputs": []
    },
    {
      "cell_type": "code",
      "source": [
        "print(w1)\n",
        "print(b1)\n",
        "print(w2)\n",
        "print(b2)\n",
        "print(w3)\n",
        "print(b3)"
      ],
      "metadata": {
        "colab": {
          "base_uri": "https://localhost:8080/"
        },
        "id": "qhf1ToErIMrC",
        "outputId": "74bcc3ae-c2c0-4e63-ba0d-9fc6e03b9e6c"
      },
      "execution_count": null,
      "outputs": [
        {
          "output_type": "stream",
          "name": "stdout",
          "text": [
            "[-10   1]\n",
            "-1.1\n",
            "[ 10 120]\n",
            "11\n",
            "[1 1]\n",
            "-1.8\n"
          ]
        }
      ]
    },
    {
      "cell_type": "markdown",
      "source": [
        "----"
      ],
      "metadata": {
        "id": "gvREfbRDWk1H"
      }
    },
    {
      "cell_type": "markdown",
      "source": [
        "***1,2 GRAHP***"
      ],
      "metadata": {
        "id": "eWm0kcsOWnha"
      }
    },
    {
      "cell_type": "code",
      "source": [
        "def NAND1 (x1, x2) :\n",
        "  x = np.array([x1,x2])\n",
        "  w = w1\n",
        "  b = b1\n",
        "  temp = np.sum(w*x)+b\n",
        "\n",
        "  if temp<0 :\n",
        "    return 1\n",
        "  else :\n",
        "    return 0"
      ],
      "metadata": {
        "id": "X-evvjvlDqOo"
      },
      "execution_count": null,
      "outputs": []
    },
    {
      "cell_type": "code",
      "source": [
        "print(NAND1(0,0))\n",
        "print(NAND1(1,0))\n",
        "print(NAND1(0,1))\n",
        "print(NAND1(1,1))"
      ],
      "metadata": {
        "colab": {
          "base_uri": "https://localhost:8080/"
        },
        "id": "APO20wCsEIOG",
        "outputId": "f1fea10e-8f89-43c8-fd1d-cf654f19bf8f"
      },
      "execution_count": null,
      "outputs": [
        {
          "output_type": "stream",
          "name": "stdout",
          "text": [
            "1\n",
            "1\n",
            "1\n",
            "1\n"
          ]
        }
      ]
    },
    {
      "cell_type": "code",
      "source": [
        "def OR2 (x1, x2) :\n",
        "  x = np.array([x1,x2])\n",
        "  w = w2\n",
        "  b = b2\n",
        "  temp = np.sum(w*x)+b\n",
        "\n",
        "  if temp>0 :\n",
        "    return 1\n",
        "  else :\n",
        "    return 0"
      ],
      "metadata": {
        "id": "W8HpFDcGEL7T"
      },
      "execution_count": null,
      "outputs": []
    },
    {
      "cell_type": "code",
      "source": [
        "print(OR2(0,0))\n",
        "print(OR2(1,0))\n",
        "print(OR2(0,1))\n",
        "print(OR2(1,1))"
      ],
      "metadata": {
        "colab": {
          "base_uri": "https://localhost:8080/"
        },
        "id": "rGl-RzmhEbE1",
        "outputId": "27910a38-c333-402b-e3d9-6d9a5f408765"
      },
      "execution_count": null,
      "outputs": [
        {
          "output_type": "stream",
          "name": "stdout",
          "text": [
            "1\n",
            "1\n",
            "1\n",
            "1\n"
          ]
        }
      ]
    },
    {
      "cell_type": "code",
      "source": [
        "def AND (x1,x2) :\n",
        "  x = np.array([x1,x2])\n",
        "  w = np.array([0.5, 0.5])\n",
        "  b = -0.7\n",
        "  temp = np.sum(w*x)+b\n",
        "  if temp>0 :\n",
        "    return 1\n",
        "  else :\n",
        "    return 0"
      ],
      "metadata": {
        "id": "otSPJ4FSGTQV"
      },
      "execution_count": null,
      "outputs": []
    },
    {
      "cell_type": "code",
      "source": [
        "print(AND(0,0))\n",
        "print(AND(1,0))\n",
        "print(AND(0,1))\n",
        "print(AND(1,1))"
      ],
      "metadata": {
        "colab": {
          "base_uri": "https://localhost:8080/"
        },
        "id": "cg84vyVWH8EE",
        "outputId": "434aebb3-bf89-4bda-8f87-bfb55ed3194a"
      },
      "execution_count": null,
      "outputs": [
        {
          "output_type": "stream",
          "name": "stdout",
          "text": [
            "0\n",
            "0\n",
            "0\n",
            "1\n"
          ]
        }
      ]
    },
    {
      "cell_type": "code",
      "source": [
        "def XOR(x1, x2):\n",
        "  y1=NAND1(x1, x2)\n",
        "  y2=OR2(x1, x2)\n",
        "  y3=AND(y1, y2)\n",
        "  return y3"
      ],
      "metadata": {
        "id": "HTdk8C7WEgMx"
      },
      "execution_count": null,
      "outputs": []
    },
    {
      "cell_type": "code",
      "source": [
        "print(XOR(0,0))\n",
        "print(XOR(1,0))\n",
        "print(XOR(0,1))\n",
        "print(XOR(1,1))"
      ],
      "metadata": {
        "colab": {
          "base_uri": "https://localhost:8080/"
        },
        "id": "H-5Cga9PFPMm",
        "outputId": "446983a7-a35a-4ee7-d9b0-13e09532cd9a"
      },
      "execution_count": null,
      "outputs": [
        {
          "output_type": "stream",
          "name": "stdout",
          "text": [
            "1\n",
            "1\n",
            "1\n",
            "1\n"
          ]
        }
      ]
    },
    {
      "cell_type": "code",
      "source": [
        ""
      ],
      "metadata": {
        "id": "FRMOMgNpGPoK"
      },
      "execution_count": null,
      "outputs": []
    },
    {
      "cell_type": "markdown",
      "source": [
        "-------------------------"
      ],
      "metadata": {
        "id": "6gffbl3nVpes"
      }
    },
    {
      "cell_type": "markdown",
      "source": [
        "# 3 GRAPH"
      ],
      "metadata": {
        "id": "Nb254raAWrF8"
      }
    },
    {
      "cell_type": "code",
      "source": [
        "def NAND3 (x1, x2) :\n",
        "  x = np.array([x1,x2])\n",
        "  w = w3\n",
        "  b = b3\n",
        "  temp = np.sum(w*x)+b\n",
        "\n",
        "  if temp<0 :\n",
        "    return 1\n",
        "  else :\n",
        "    return 0"
      ],
      "metadata": {
        "id": "ReVsjpv0Iqxd"
      },
      "execution_count": null,
      "outputs": []
    },
    {
      "cell_type": "code",
      "source": [
        "print(NAND3(0,0))\n",
        "print(NAND3(1,0))\n",
        "print(NAND3(0,1))\n",
        "print(NAND3(1,1))"
      ],
      "metadata": {
        "colab": {
          "base_uri": "https://localhost:8080/"
        },
        "outputId": "c26d0b7b-e8e3-4c3c-dcea-91c7e559677f",
        "id": "XEW2GGNkIqxe"
      },
      "execution_count": null,
      "outputs": [
        {
          "output_type": "stream",
          "name": "stdout",
          "text": [
            "1\n",
            "1\n",
            "1\n",
            "0\n"
          ]
        }
      ]
    },
    {
      "cell_type": "code",
      "source": [
        "def AND1(x1, x2):\n",
        "  y4=NAND3(x1, x2)\n",
        "  y5=XOR(x1, x2)\n",
        "  y6=AND(y4, y5)\n",
        "  return y6"
      ],
      "metadata": {
        "id": "dxfT8nrsIqxf"
      },
      "execution_count": null,
      "outputs": []
    },
    {
      "cell_type": "code",
      "source": [
        "print(AND1(0,0))\n",
        "print(AND1(1,0))\n",
        "print(AND1(0,1))\n",
        "print(AND1(1,1))"
      ],
      "metadata": {
        "colab": {
          "base_uri": "https://localhost:8080/"
        },
        "outputId": "5185dd7c-5807-477b-8d96-564526443e5c",
        "id": "D3QuipaeIqxf"
      },
      "execution_count": null,
      "outputs": [
        {
          "output_type": "stream",
          "name": "stdout",
          "text": [
            "1\n",
            "1\n",
            "1\n",
            "0\n"
          ]
        }
      ]
    },
    {
      "cell_type": "code",
      "source": [
        ""
      ],
      "metadata": {
        "id": "FEUI3W9rqBrV"
      },
      "execution_count": null,
      "outputs": []
    }
  ]
}